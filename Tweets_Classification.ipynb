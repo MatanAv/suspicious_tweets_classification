{
  "cells": [
    {
      "cell_type": "markdown",
      "metadata": {
        "id": "VAWIXv72cKRt"
      },
      "source": [
        "# Final Project - Tweets Classification"
      ]
    },
    {
      "cell_type": "markdown",
      "metadata": {
        "id": "sudwQL26seBi"
      },
      "source": [
        "### Imports"
      ]
    },
    {
      "cell_type": "code",
      "execution_count": null,
      "metadata": {
        "id": "5ScVxs3CcPce"
      },
      "outputs": [],
      "source": [
        "# import numpy, matplotlib, etc.\n",
        "import numpy as np\n",
        "import pandas as pd\n",
        "import seaborn as sns\n",
        "import matplotlib.pyplot as plt\n",
        "\n",
        "import warnings\n",
        "warnings.filterwarnings('ignore')"
      ]
    },
    {
      "cell_type": "code",
      "execution_count": null,
      "metadata": {
        "id": "_rayLbxhCssC",
        "colab": {
          "base_uri": "https://localhost:8080/"
        },
        "outputId": "a0c5766c-c8bf-42b3-dab3-bd5ca81b375b"
      },
      "outputs": [
        {
          "output_type": "stream",
          "name": "stdout",
          "text": [
            "Requirement already satisfied: kaggle in /usr/local/lib/python3.7/dist-packages (1.5.12)\n",
            "Requirement already satisfied: requests in /usr/local/lib/python3.7/dist-packages (from kaggle) (2.23.0)\n",
            "Requirement already satisfied: python-slugify in /usr/local/lib/python3.7/dist-packages (from kaggle) (6.1.1)\n",
            "Requirement already satisfied: urllib3 in /usr/local/lib/python3.7/dist-packages (from kaggle) (1.24.3)\n",
            "Requirement already satisfied: certifi in /usr/local/lib/python3.7/dist-packages (from kaggle) (2021.10.8)\n",
            "Requirement already satisfied: six>=1.10 in /usr/local/lib/python3.7/dist-packages (from kaggle) (1.15.0)\n",
            "Requirement already satisfied: python-dateutil in /usr/local/lib/python3.7/dist-packages (from kaggle) (2.8.2)\n",
            "Requirement already satisfied: tqdm in /usr/local/lib/python3.7/dist-packages (from kaggle) (4.64.0)\n",
            "Requirement already satisfied: text-unidecode>=1.3 in /usr/local/lib/python3.7/dist-packages (from python-slugify->kaggle) (1.3)\n",
            "Requirement already satisfied: idna<3,>=2.5 in /usr/local/lib/python3.7/dist-packages (from requests->kaggle) (2.10)\n",
            "Requirement already satisfied: chardet<4,>=3.0.2 in /usr/local/lib/python3.7/dist-packages (from requests->kaggle) (3.0.4)\n"
          ]
        }
      ],
      "source": [
        "! pip install kaggle\n",
        "! mkdir ~/.kaggle\n",
        "! cp kaggle.json ~/.kaggle/\n",
        "! chmod 600 ~/.kaggle/kaggle.json"
      ]
    },
    {
      "cell_type": "code",
      "execution_count": null,
      "metadata": {
        "id": "l1Po9c5547OZ",
        "colab": {
          "base_uri": "https://localhost:8080/"
        },
        "outputId": "a3e7bcc5-deb6-4035-bae2-9435ba6dff8f"
      },
      "outputs": [
        {
          "output_type": "stream",
          "name": "stdout",
          "text": [
            "Downloading classified-tweets.zip to /content\n",
            "\r  0% 0.00/772k [00:00<?, ?B/s]\n",
            "100% 772k/772k [00:00<00:00, 102MB/s]\n",
            "Downloading cybertweets.zip to /content\n",
            "  0% 0.00/2.82M [00:00<?, ?B/s]\n",
            "100% 2.82M/2.82M [00:00<00:00, 187MB/s]\n",
            "Downloading suicide-watch.zip to /content\n",
            "100% 60.6M/60.6M [00:00<00:00, 93.7MB/s]\n",
            "100% 60.6M/60.6M [00:00<00:00, 85.8MB/s]\n",
            "Downloading tweeter-hate-speech-sentiment-analysis.zip to /content\n",
            "  0% 0.00/1.89M [00:00<?, ?B/s]\n",
            "100% 1.89M/1.89M [00:00<00:00, 57.4MB/s]\n",
            "Downloading racism-tweets.zip to /content\n",
            "  0% 0.00/634k [00:00<?, ?B/s]\n",
            "100% 634k/634k [00:00<00:00, 52.0MB/s]\n",
            "Downloading hate-speech-offensive-tweets-by-davidson-et-al.zip to /content\n",
            "  0% 0.00/2.10M [00:00<?, ?B/s]\n",
            "100% 2.10M/2.10M [00:00<00:00, 45.0MB/s]\n"
          ]
        }
      ],
      "source": [
        "! kaggle datasets download -d munkialbright/classified-tweets\n",
        "! kaggle datasets download -d prakash99/cybertweets\n",
        "! kaggle datasets download -d nikhileswarkomati/suicide-watch\n",
        "! kaggle datasets download -d rajnikant2020/tweeter-hate-speech-sentiment-analysis\n",
        "! kaggle datasets download -d raghadabdullah/racism-tweets\n",
        "! kaggle datasets download -d eldrich/hate-speech-offensive-tweets-by-davidson-et-al"
      ]
    },
    {
      "cell_type": "code",
      "execution_count": null,
      "metadata": {
        "id": "juK-MFP45b-f",
        "colab": {
          "base_uri": "https://localhost:8080/"
        },
        "outputId": "b4152e71-96c0-4aa1-f931-4f7a63cc39c6"
      },
      "outputs": [
        {
          "output_type": "stream",
          "name": "stdout",
          "text": [
            "Archive:  /content/classified-tweets.zip\n",
            "  inflating: /content/data/classified_tweets.csv  \n",
            "Archive:  /content/cybertweets.zip\n",
            "  inflating: /content/data/cyberbullying_tweets.csv  \n",
            "Archive:  /content/racism-tweets.zip\n",
            "  inflating: /content/data/twitter_racism_parsed_dataset.csv  \n",
            "Archive:  /content/suicide-watch.zip\n",
            "  inflating: /content/data/Suicide_Detection.csv  \n",
            "Archive:  /content/tweeter-hate-speech-sentiment-analysis.zip\n",
            "  inflating: /content/data/test_tweets.csv  \n",
            "  inflating: /content/data/train_tweets.csv  \n",
            "unzip:  cannot find or open /content/twitter-sentiment-analysis-hatred-speech.zip, /content/twitter-sentiment-analysis-hatred-speech.zip.zip or /content/twitter-sentiment-analysis-hatred-speech.zip.ZIP.\n",
            "Archive:  /content/hate-speech-offensive-tweets-by-davidson-et-al.zip\n",
            "  inflating: LICENSE                 \n",
            "  inflating: README.md               \n",
            "  inflating: data/labeled_data.csv   \n",
            "  inflating: data/labeled_data.p     \n",
            "  inflating: data/readme.md          \n"
          ]
        }
      ],
      "source": [
        "! unzip /content/classified-tweets.zip -d /content/data\n",
        "! unzip /content/cybertweets.zip -d /content/data\n",
        "! unzip /content/racism-tweets.zip -d /content/data\n",
        "! unzip /content/suicide-watch.zip -d /content/data\n",
        "! unzip /content/tweeter-hate-speech-sentiment-analysis.zip -d /content/data\n",
        "! unzip /content/twitter-sentiment-analysis-hatred-speech.zip -d /content/data\n",
        "! unzip /content/hate-speech-offensive-tweets-by-davidson-et-al.zip"
      ]
    },
    {
      "cell_type": "code",
      "execution_count": null,
      "metadata": {
        "id": "B4AQWKEn9aur"
      },
      "outputs": [],
      "source": [
        "! rm /content/classified-tweets.zip\n",
        "! rm /content/cybertweets.zip\n",
        "! rm /content/racism-tweets.zip\n",
        "! rm /content/suicide-watch.zip\n",
        "! rm /content/tweeter-hate-speech-sentiment-analysis.zip\n",
        "! rm /content/hate-speech-offensive-tweets-by-davidson-et-al.zip\n",
        "! rm /content/LICENSE\n",
        "! rm /content/README.md"
      ]
    },
    {
      "cell_type": "code",
      "execution_count": null,
      "metadata": {
        "id": "jQp71W13yuOr"
      },
      "outputs": [],
      "source": [
        "df_suicide = pd.read_csv('/content/data/Suicide_Detection.csv', index_col=[0])\n",
        "df_cbull = pd.read_csv('/content/data/cyberbullying_tweets.csv')\n",
        "df_hate1 = pd.read_csv('/content/data/train_tweets.csv')\n",
        "df_hate2 = pd.read_csv('/content/data/labeled_data.csv', index_col=[0])\n",
        "df_racism = pd.read_csv('/content/data/twitter_racism_parsed_dataset.csv')"
      ]
    },
    {
      "cell_type": "markdown",
      "metadata": {
        "id": "Jib7G0aPso2n"
      },
      "source": [
        "### Data Cleansing & Encoding"
      ]
    },
    {
      "cell_type": "markdown",
      "source": [
        "**Cleaning**"
      ],
      "metadata": {
        "id": "9QSUIuSZchxg"
      }
    },
    {
      "cell_type": "code",
      "execution_count": null,
      "metadata": {
        "id": "eSWNAJt0BzzY"
      },
      "outputs": [],
      "source": [
        "df_hate1.drop('id', axis=1, inplace=True)\n",
        "\n",
        "# Class column is the label (0 or 1 == 'Hate Speech', 2 == 'Normal').\n",
        "df_hate2.drop(['count','hate_speech','offensive_language', 'neither'], axis=1, inplace=True)\n",
        "df_hate2.loc[df_hate2['class'] == 0, 'class'] = 1\n",
        "df_hate2 = df_hate2[df_hate2['class'] == 1]\n",
        "df_hate2.reset_index(drop=True, inplace=True)\n",
        "\n",
        "df_racism.drop(['index', 'id', 'Annotation'], axis=1, inplace=True)"
      ]
    },
    {
      "cell_type": "code",
      "execution_count": null,
      "metadata": {
        "id": "e_kLadg0CEbo",
        "colab": {
          "base_uri": "https://localhost:8080/"
        },
        "outputId": "42632cc8-a280-418e-a837-0e332a5c4913"
      },
      "outputs": [
        {
          "output_type": "stream",
          "name": "stdout",
          "text": [
            "(232074, 2) (47692, 2) (31962, 2) (20620, 2) (13471, 2)\n"
          ]
        }
      ],
      "source": [
        "print(df_suicide.shape, df_cbull.shape, df_hate1.shape, df_hate2.shape, df_racism.shape)"
      ]
    },
    {
      "cell_type": "markdown",
      "metadata": {
        "id": "F4rWZtPOE4eX"
      },
      "source": [
        "**Encoding**"
      ]
    },
    {
      "cell_type": "code",
      "execution_count": null,
      "metadata": {
        "id": "Ydi0c64ZKZei"
      },
      "outputs": [],
      "source": [
        "def binary_encode(df, col, not_val):\n",
        "  df.loc[df[col] == not_val, col] = 0\n",
        "  df.loc[df[col] != 0, col] = 1\n",
        "\n",
        "binary_encode(df_cbull, 'cyberbullying_type', 'not_cyberbullying')\n",
        "binary_encode(df_suicide, 'class', 'non-suicide')"
      ]
    },
    {
      "cell_type": "markdown",
      "metadata": {
        "id": "eIKncbJHgavz"
      },
      "source": [
        "**Change to train style**"
      ]
    },
    {
      "cell_type": "code",
      "execution_count": null,
      "metadata": {
        "id": "vFHO7FFWggMV"
      },
      "outputs": [],
      "source": [
        "def convert_to_train_style(df, label):\n",
        "  df[['cyberbullying', 'hate', 'suicidal']] = 0\n",
        "  df.rename({label: 'tweet'}, axis=1, inplace=True)\n",
        "  return df\n",
        "\n",
        "df_suicide = convert_to_train_style(df_suicide, 'text')\n",
        "df_cbull = convert_to_train_style(df_cbull, 'tweet_text')\n",
        "df_hate1 = convert_to_train_style(df_hate1, 'tweet')\n",
        "df_hate2 = convert_to_train_style(df_hate2, 'tweet')\n",
        "df_racism = convert_to_train_style(df_racism, 'Text')"
      ]
    },
    {
      "cell_type": "code",
      "execution_count": null,
      "metadata": {
        "id": "P6QrEtybjJo-"
      },
      "outputs": [],
      "source": [
        "def convert_labels(df, label, title):\n",
        "  df.loc[df[label] == 1, title] = 1\n",
        "  df.drop(label, axis=1, inplace=True)\n",
        "  \n",
        "convert_labels(df_suicide, 'class', 'suicidal')\n",
        "convert_labels(df_cbull, 'cyberbullying_type', 'cyberbullying')\n",
        "convert_labels(df_hate1, 'label', 'hate')\n",
        "convert_labels(df_hate2, 'class', 'hate')\n",
        "convert_labels(df_racism, 'oh_label', 'hate')"
      ]
    },
    {
      "cell_type": "markdown",
      "metadata": {
        "id": "PQ5hYBk1m8KA"
      },
      "source": [
        "**Combine datasets to a single dataset**"
      ]
    },
    {
      "cell_type": "code",
      "execution_count": null,
      "metadata": {
        "id": "ETIMb0v6lNtC"
      },
      "outputs": [],
      "source": [
        "train = pd.concat([df_suicide, df_cbull, df_hate1, df_hate2, df_racism], axis=0)\n",
        "train.reset_index(drop=True, inplace=True)"
      ]
    },
    {
      "cell_type": "markdown",
      "metadata": {
        "id": "2Bs8HIg9SaGQ"
      },
      "source": [
        "**Transforming dataframe to be on the form of 'tweet'-'type'-'type-name':**"
      ]
    },
    {
      "cell_type": "code",
      "execution_count": null,
      "metadata": {
        "id": "h-GVbt39Sn9I",
        "colab": {
          "base_uri": "https://localhost:8080/"
        },
        "outputId": "41817b74-3be6-4186-b7c8-565ff652b80b"
      },
      "outputs": [
        {
          "output_type": "execute_result",
          "data": {
            "text/plain": [
              "(345819, 3)"
            ]
          },
          "metadata": {},
          "execution_count": 13
        }
      ],
      "source": [
        "def transform_label(df):\n",
        "  df['type_id'] = 0\n",
        "  df['type-name'] = \"Normal tweet\"\n",
        "  df.loc[df['cyberbullying'] == 1, 'type_id'] = 1\n",
        "  df.loc[df['cyberbullying'] == 1, 'type-name'] = 'cyberbullying'\n",
        "  df.loc[df['hate'] == 1, 'type_id'] = 2\n",
        "  df.loc[df['hate'] == 1, 'type-name'] = 'hate'\n",
        "  df.loc[df['suicidal'] == 1, 'type_id'] = 3\n",
        "  df.loc[df['suicidal'] == 1, 'type-name'] = 'suicidal'\n",
        "  df.drop(['cyberbullying', 'hate', 'suicidal'], axis=1, inplace=True)\n",
        "  return df\n",
        "\n",
        "train = transform_label(train)\n",
        "\n",
        "train.shape"
      ]
    },
    {
      "cell_type": "code",
      "execution_count": null,
      "metadata": {
        "id": "435vu3Iynjrs"
      },
      "outputs": [],
      "source": [
        "normal_tweets = train[train['type-name'] == 'Normal tweet']\n",
        "sui_tweets = train[train['type-name'] == 'suicidal']\n",
        "cb_tweets = train[train['type-name'] == 'cyberbullying']\n",
        "hate_tweets = train[train['type-name'] == 'hate']"
      ]
    },
    {
      "cell_type": "code",
      "execution_count": null,
      "metadata": {
        "colab": {
          "base_uri": "https://localhost:8080/"
        },
        "id": "rYEfKBCwUHQz",
        "outputId": "9cec685d-a9bc-41b0-b620-4526b53183d1"
      },
      "outputs": [
        {
          "output_type": "stream",
          "name": "stdout",
          "text": [
            "165203\n",
            "116037\n",
            "39747\n",
            "24832\n"
          ]
        }
      ],
      "source": [
        "print(len(normal_tweets))\n",
        "print(len(sui_tweets))\n",
        "print(len(cb_tweets))\n",
        "print(len(hate_tweets))"
      ]
    },
    {
      "cell_type": "markdown",
      "source": [
        "**Fixing Imbalanced Data:**"
      ],
      "metadata": {
        "id": "mValVAjee5u_"
      }
    },
    {
      "cell_type": "markdown",
      "source": [
        "We would like our model to be the as most objective as possible, therefore we'll make the dataset balanced.  \n",
        "We'll do it by substruct each label to be 24832 (which is the number of 'hate' tweets)."
      ],
      "metadata": {
        "id": "KNJlLSWJfBub"
      }
    },
    {
      "cell_type": "code",
      "source": [
        "min_tweets = len(hate_tweets)\n",
        "# min_tweets = 5000"
      ],
      "metadata": {
        "id": "blouhrvJfirH"
      },
      "execution_count": null,
      "outputs": []
    },
    {
      "cell_type": "code",
      "source": [
        "train = pd.concat([normal_tweets[:min_tweets], sui_tweets[:min_tweets],\n",
        "                   cb_tweets[:min_tweets], hate_tweets[:min_tweets]], axis=0)\n",
        "train.reset_index(drop=True, inplace=True)"
      ],
      "metadata": {
        "id": "itiJaHrGfdHv"
      },
      "execution_count": null,
      "outputs": []
    },
    {
      "cell_type": "code",
      "source": [
        "normal_tweets = train[train['type-name'] == 'Normal tweet']\n",
        "sui_tweets = train[train['type-name'] == 'suicidal']\n",
        "cb_tweets = train[train['type-name'] == 'cyberbullying']\n",
        "hate_tweets = train[train['type-name'] == 'hate']"
      ],
      "metadata": {
        "id": "WY4q63NSgMBI"
      },
      "execution_count": null,
      "outputs": []
    },
    {
      "cell_type": "code",
      "source": [
        "print(len(normal_tweets))\n",
        "print(len(sui_tweets))\n",
        "print(len(cb_tweets))\n",
        "print(len(hate_tweets))"
      ],
      "metadata": {
        "colab": {
          "base_uri": "https://localhost:8080/"
        },
        "id": "-lmCk4ejgNn8",
        "outputId": "e5352ba7-4cfb-4e00-ed3b-50b21a9e675b"
      },
      "execution_count": null,
      "outputs": [
        {
          "output_type": "stream",
          "name": "stdout",
          "text": [
            "24832\n",
            "24832\n",
            "24832\n",
            "24832\n"
          ]
        }
      ]
    },
    {
      "cell_type": "code",
      "source": [
        "train.shape"
      ],
      "metadata": {
        "colab": {
          "base_uri": "https://localhost:8080/"
        },
        "id": "C3UJNwDe8j0W",
        "outputId": "e4586a09-0099-40c5-9317-2585a94f6ddf"
      },
      "execution_count": null,
      "outputs": [
        {
          "output_type": "execute_result",
          "data": {
            "text/plain": [
              "(99328, 3)"
            ]
          },
          "metadata": {},
          "execution_count": 20
        }
      ]
    },
    {
      "cell_type": "code",
      "source": [
        "train[min_tweets*1:min_tweets*2].head(5)"
      ],
      "metadata": {
        "colab": {
          "base_uri": "https://localhost:8080/",
          "height": 206
        },
        "id": "IkfpLQsm8UH4",
        "outputId": "1c773e54-a0c2-4692-f835-6b45a3c52686"
      },
      "execution_count": null,
      "outputs": [
        {
          "output_type": "execute_result",
          "data": {
            "text/plain": [
              "                                                   tweet  type_id type-name\n",
              "24832  Ex Wife Threatening SuicideRecently I left my ...        3  suicidal\n",
              "24833          i need helpjust help me im crying so hard        3  suicidal\n",
              "24834  I’m so lostHello, my name is Adam (16) and I’v...        3  suicidal\n",
              "24835  Honetly idkI dont know what im even doing here...        3  suicidal\n",
              "24836  [Trigger warning] Excuse for self inflicted bu...        3  suicidal"
            ],
            "text/html": [
              "\n",
              "  <div id=\"df-2964aaaa-e935-4d1a-8265-14bc0ba314af\">\n",
              "    <div class=\"colab-df-container\">\n",
              "      <div>\n",
              "<style scoped>\n",
              "    .dataframe tbody tr th:only-of-type {\n",
              "        vertical-align: middle;\n",
              "    }\n",
              "\n",
              "    .dataframe tbody tr th {\n",
              "        vertical-align: top;\n",
              "    }\n",
              "\n",
              "    .dataframe thead th {\n",
              "        text-align: right;\n",
              "    }\n",
              "</style>\n",
              "<table border=\"1\" class=\"dataframe\">\n",
              "  <thead>\n",
              "    <tr style=\"text-align: right;\">\n",
              "      <th></th>\n",
              "      <th>tweet</th>\n",
              "      <th>type_id</th>\n",
              "      <th>type-name</th>\n",
              "    </tr>\n",
              "  </thead>\n",
              "  <tbody>\n",
              "    <tr>\n",
              "      <th>24832</th>\n",
              "      <td>Ex Wife Threatening SuicideRecently I left my ...</td>\n",
              "      <td>3</td>\n",
              "      <td>suicidal</td>\n",
              "    </tr>\n",
              "    <tr>\n",
              "      <th>24833</th>\n",
              "      <td>i need helpjust help me im crying so hard</td>\n",
              "      <td>3</td>\n",
              "      <td>suicidal</td>\n",
              "    </tr>\n",
              "    <tr>\n",
              "      <th>24834</th>\n",
              "      <td>I’m so lostHello, my name is Adam (16) and I’v...</td>\n",
              "      <td>3</td>\n",
              "      <td>suicidal</td>\n",
              "    </tr>\n",
              "    <tr>\n",
              "      <th>24835</th>\n",
              "      <td>Honetly idkI dont know what im even doing here...</td>\n",
              "      <td>3</td>\n",
              "      <td>suicidal</td>\n",
              "    </tr>\n",
              "    <tr>\n",
              "      <th>24836</th>\n",
              "      <td>[Trigger warning] Excuse for self inflicted bu...</td>\n",
              "      <td>3</td>\n",
              "      <td>suicidal</td>\n",
              "    </tr>\n",
              "  </tbody>\n",
              "</table>\n",
              "</div>\n",
              "      <button class=\"colab-df-convert\" onclick=\"convertToInteractive('df-2964aaaa-e935-4d1a-8265-14bc0ba314af')\"\n",
              "              title=\"Convert this dataframe to an interactive table.\"\n",
              "              style=\"display:none;\">\n",
              "        \n",
              "  <svg xmlns=\"http://www.w3.org/2000/svg\" height=\"24px\"viewBox=\"0 0 24 24\"\n",
              "       width=\"24px\">\n",
              "    <path d=\"M0 0h24v24H0V0z\" fill=\"none\"/>\n",
              "    <path d=\"M18.56 5.44l.94 2.06.94-2.06 2.06-.94-2.06-.94-.94-2.06-.94 2.06-2.06.94zm-11 1L8.5 8.5l.94-2.06 2.06-.94-2.06-.94L8.5 2.5l-.94 2.06-2.06.94zm10 10l.94 2.06.94-2.06 2.06-.94-2.06-.94-.94-2.06-.94 2.06-2.06.94z\"/><path d=\"M17.41 7.96l-1.37-1.37c-.4-.4-.92-.59-1.43-.59-.52 0-1.04.2-1.43.59L10.3 9.45l-7.72 7.72c-.78.78-.78 2.05 0 2.83L4 21.41c.39.39.9.59 1.41.59.51 0 1.02-.2 1.41-.59l7.78-7.78 2.81-2.81c.8-.78.8-2.07 0-2.86zM5.41 20L4 18.59l7.72-7.72 1.47 1.35L5.41 20z\"/>\n",
              "  </svg>\n",
              "      </button>\n",
              "      \n",
              "  <style>\n",
              "    .colab-df-container {\n",
              "      display:flex;\n",
              "      flex-wrap:wrap;\n",
              "      gap: 12px;\n",
              "    }\n",
              "\n",
              "    .colab-df-convert {\n",
              "      background-color: #E8F0FE;\n",
              "      border: none;\n",
              "      border-radius: 50%;\n",
              "      cursor: pointer;\n",
              "      display: none;\n",
              "      fill: #1967D2;\n",
              "      height: 32px;\n",
              "      padding: 0 0 0 0;\n",
              "      width: 32px;\n",
              "    }\n",
              "\n",
              "    .colab-df-convert:hover {\n",
              "      background-color: #E2EBFA;\n",
              "      box-shadow: 0px 1px 2px rgba(60, 64, 67, 0.3), 0px 1px 3px 1px rgba(60, 64, 67, 0.15);\n",
              "      fill: #174EA6;\n",
              "    }\n",
              "\n",
              "    [theme=dark] .colab-df-convert {\n",
              "      background-color: #3B4455;\n",
              "      fill: #D2E3FC;\n",
              "    }\n",
              "\n",
              "    [theme=dark] .colab-df-convert:hover {\n",
              "      background-color: #434B5C;\n",
              "      box-shadow: 0px 1px 3px 1px rgba(0, 0, 0, 0.15);\n",
              "      filter: drop-shadow(0px 1px 2px rgba(0, 0, 0, 0.3));\n",
              "      fill: #FFFFFF;\n",
              "    }\n",
              "  </style>\n",
              "\n",
              "      <script>\n",
              "        const buttonEl =\n",
              "          document.querySelector('#df-2964aaaa-e935-4d1a-8265-14bc0ba314af button.colab-df-convert');\n",
              "        buttonEl.style.display =\n",
              "          google.colab.kernel.accessAllowed ? 'block' : 'none';\n",
              "\n",
              "        async function convertToInteractive(key) {\n",
              "          const element = document.querySelector('#df-2964aaaa-e935-4d1a-8265-14bc0ba314af');\n",
              "          const dataTable =\n",
              "            await google.colab.kernel.invokeFunction('convertToInteractive',\n",
              "                                                     [key], {});\n",
              "          if (!dataTable) return;\n",
              "\n",
              "          const docLinkHtml = 'Like what you see? Visit the ' +\n",
              "            '<a target=\"_blank\" href=https://colab.research.google.com/notebooks/data_table.ipynb>data table notebook</a>'\n",
              "            + ' to learn more about interactive tables.';\n",
              "          element.innerHTML = '';\n",
              "          dataTable['output_type'] = 'display_data';\n",
              "          await google.colab.output.renderOutput(dataTable, element);\n",
              "          const docLink = document.createElement('div');\n",
              "          docLink.innerHTML = docLinkHtml;\n",
              "          element.appendChild(docLink);\n",
              "        }\n",
              "      </script>\n",
              "    </div>\n",
              "  </div>\n",
              "  "
            ]
          },
          "metadata": {},
          "execution_count": 27
        }
      ]
    },
    {
      "cell_type": "code",
      "source": [
        "from io import StringIO\n",
        "category_id_df = train[['type-name', 'type_id']].drop_duplicates().sort_values('type_id')\n",
        "category_to_id = dict(category_id_df.values)\n",
        "id_to_category = dict(category_id_df[['type_id', 'type-name']].values)"
      ],
      "metadata": {
        "id": "j2JitUfYrwn0"
      },
      "execution_count": null,
      "outputs": []
    },
    {
      "cell_type": "markdown",
      "metadata": {
        "id": "44CSGgWNsZbT"
      },
      "source": [
        "### Word Embedding"
      ]
    },
    {
      "cell_type": "markdown",
      "source": [
        "Every step we'll show the changes, so this is the initial data:"
      ],
      "metadata": {
        "id": "0ibnYe3k-BpH"
      }
    },
    {
      "cell_type": "code",
      "source": [
        "train['tweet'].head()"
      ],
      "metadata": {
        "colab": {
          "base_uri": "https://localhost:8080/"
        },
        "id": "jRMyQSBp98nF",
        "outputId": "08d55892-abc9-4bab-e3e5-cf846f45e0c9"
      },
      "execution_count": null,
      "outputs": [
        {
          "output_type": "execute_result",
          "data": {
            "text/plain": [
              "0    Am I weird I don't get affected by compliments...\n",
              "1    Finally 2020 is almost over... So I can never ...\n",
              "2    Everyone wants to be \"edgy\" and it's making me...\n",
              "3    Fuck the verizon smart family app I can’t even...\n",
              "4    Well, Im screwed. I locked myself in the schoo...\n",
              "Name: tweet, dtype: object"
            ]
          },
          "metadata": {},
          "execution_count": 190
        }
      ]
    },
    {
      "cell_type": "markdown",
      "metadata": {
        "id": "BH-iRQuz1u3Y"
      },
      "source": [
        "**Convert to lower case**"
      ]
    },
    {
      "cell_type": "code",
      "execution_count": null,
      "metadata": {
        "id": "_WyCxJSa1xqt",
        "colab": {
          "base_uri": "https://localhost:8080/"
        },
        "outputId": "61828289-46d6-4185-94e9-7a8f792602a2"
      },
      "outputs": [
        {
          "output_type": "stream",
          "name": "stdout",
          "text": [
            "0    am i weird i don't get affected by compliments...\n",
            "1    finally 2020 is almost over... so i can never ...\n",
            "2    everyone wants to be \"edgy\" and it's making me...\n",
            "3    fuck the verizon smart family app i can’t even...\n",
            "4    well, im screwed. i locked myself in the schoo...\n",
            "Name: tweet, dtype: object\n"
          ]
        }
      ],
      "source": [
        "def lower_case(df):\n",
        "    df['tweet'] = df['tweet'].apply(lambda x: \" \".join(x.lower() for x in x.split()))\n",
        "    print(df['tweet'].head())\n",
        "  \n",
        "lower_case(train)"
      ]
    },
    {
      "cell_type": "markdown",
      "metadata": {
        "id": "V8I0DnPa2XUy"
      },
      "source": [
        "**Punctuation Removal**"
      ]
    },
    {
      "cell_type": "code",
      "execution_count": null,
      "metadata": {
        "id": "U1FQlJcK2fK9",
        "colab": {
          "base_uri": "https://localhost:8080/"
        },
        "outputId": "5347a77f-14db-4e62-f440-1619b0484385"
      },
      "outputs": [
        {
          "output_type": "stream",
          "name": "stdout",
          "text": [
            "0    am i weird i dont get affected by compliments ...\n",
            "1    finally 2020 is almost over so i can never hea...\n",
            "2    everyone wants to be edgy and its making me se...\n",
            "3    fuck the verizon smart family app i cant even ...\n",
            "4    well im screwed i locked myself in the school ...\n",
            "Name: tweet, dtype: object\n"
          ]
        }
      ],
      "source": [
        "def punctuation_removal(df):\n",
        "    df['tweet'] = df['tweet'].str.replace('[^\\w\\s]','')\n",
        "    print(df['tweet'].head())\n",
        "\n",
        "punctuation_removal(train)"
      ]
    },
    {
      "cell_type": "markdown",
      "metadata": {
        "id": "X266YfNo2qnu"
      },
      "source": [
        "**Stop Words Removal**"
      ]
    },
    {
      "cell_type": "code",
      "execution_count": null,
      "metadata": {
        "colab": {
          "base_uri": "https://localhost:8080/"
        },
        "id": "7PE8ckkK2yZS",
        "outputId": "69507a42-80fe-42e8-bfb3-031d13654a13"
      },
      "outputs": [
        {
          "output_type": "stream",
          "name": "stdout",
          "text": [
            "Requirement already satisfied: nltk in /usr/local/lib/python3.7/dist-packages (3.2.5)\n",
            "Requirement already satisfied: six in /usr/local/lib/python3.7/dist-packages (from nltk) (1.15.0)\n",
            "[nltk_data] Downloading package stopwords to /root/nltk_data...\n",
            "[nltk_data]   Package stopwords is already up-to-date!\n"
          ]
        },
        {
          "output_type": "execute_result",
          "data": {
            "text/plain": [
              "True"
            ]
          },
          "metadata": {},
          "execution_count": 193
        }
      ],
      "source": [
        "!pip install nltk\n",
        "import nltk\n",
        "nltk.download('stopwords')"
      ]
    },
    {
      "cell_type": "code",
      "execution_count": null,
      "metadata": {
        "id": "sr6Y0NRE2tdg"
      },
      "outputs": [],
      "source": [
        "from nltk.corpus import stopwords\n",
        "stop = stopwords.words('english')"
      ]
    },
    {
      "cell_type": "code",
      "execution_count": null,
      "metadata": {
        "id": "CVb1zGPp3I_Z",
        "colab": {
          "base_uri": "https://localhost:8080/"
        },
        "outputId": "f071b4e9-9eed-42f8-f868-d0b6ff2d2c02"
      },
      "outputs": [
        {
          "output_type": "stream",
          "name": "stdout",
          "text": [
            "0    weird dont get affected compliments coming som...\n",
            "1    finally 2020 almost never hear 2020 bad year e...\n",
            "2    everyone wants edgy making self conscious feel...\n",
            "3    fuck verizon smart family app cant even watch ...\n",
            "4    well im screwed locked school toilet cant get ...\n",
            "Name: tweet, dtype: object\n"
          ]
        }
      ],
      "source": [
        "def stop_words_removal(df):\n",
        "    df['tweet'] = df['tweet'].apply(lambda x: \" \".join(x for x in x.split() if x not in stop))\n",
        "    print(df['tweet'].head())\n",
        "\n",
        "stop_words_removal(train)"
      ]
    },
    {
      "cell_type": "markdown",
      "metadata": {
        "id": "cEwJALYk2QV-"
      },
      "source": [
        "**Frequent Words Removal**"
      ]
    },
    {
      "cell_type": "code",
      "source": [
        "n_words_limit = 50\n",
        "# n_words_limit = 10"
      ],
      "metadata": {
        "id": "i-jeWzNMKcP0"
      },
      "execution_count": null,
      "outputs": []
    },
    {
      "cell_type": "code",
      "execution_count": null,
      "metadata": {
        "colab": {
          "base_uri": "https://localhost:8080/"
        },
        "id": "3yjh3r_roGnV",
        "outputId": "c7015c49-a1c4-49f2-c6eb-088eda64a54b"
      },
      "outputs": [
        {
          "output_type": "execute_result",
          "data": {
            "text/plain": [
              "im           76564\n",
              "dont         49969\n",
              "like         44106\n",
              "want         32854\n",
              "know         30048\n",
              "feel         26487\n",
              "life         26154\n",
              "get          25987\n",
              "ive          23697\n",
              "cant         23289\n",
              "people       22986\n",
              "one          21052\n",
              "even         20678\n",
              "would        19550\n",
              "time         19238\n",
              "really       19003\n",
              "think        17175\n",
              "never        15555\n",
              "go           15472\n",
              "going        15100\n",
              "day          13662\n",
              "much         13452\n",
              "friends      13431\n",
              "filler       13411\n",
              "help         12250\n",
              "got          12084\n",
              "make         11645\n",
              "years        11543\n",
              "fucking      11336\n",
              "good         10993\n",
              "school       10929\n",
              "things       10889\n",
              "see          10341\n",
              "fuck         10275\n",
              "someone      10238\n",
              "way          10199\n",
              "still        10181\n",
              "anything     10108\n",
              "could        10096\n",
              "back          9827\n",
              "need          9820\n",
              "bitch         9694\n",
              "right         9512\n",
              "something     9344\n",
              "love          9303\n",
              "anymore       9245\n",
              "didnt         9154\n",
              "every         9118\n",
              "better        9107\n",
              "shit          9106\n",
              "dtype: int64"
            ]
          },
          "metadata": {},
          "execution_count": 197
        }
      ],
      "source": [
        "freq = pd.Series(' '.join(train['tweet']).split()).value_counts()[:n_words_limit]\n",
        "freq"
      ]
    },
    {
      "cell_type": "code",
      "execution_count": null,
      "metadata": {
        "id": "216I4_pKy8Mj"
      },
      "outputs": [],
      "source": [
        "freq = list(freq.index)"
      ]
    },
    {
      "cell_type": "code",
      "execution_count": null,
      "metadata": {
        "id": "PYrx7PjvxgHK",
        "colab": {
          "base_uri": "https://localhost:8080/"
        },
        "outputId": "08e4f331-1da6-4f30-efae-8b2d80d410b3"
      },
      "outputs": [
        {
          "output_type": "stream",
          "name": "stdout",
          "text": [
            "0    weird affected compliments coming irl internet...\n",
            "1    finally 2020 almost hear 2020 bad year ever sw...\n",
            "2    everyone wants edgy making self conscious stan...\n",
            "3    verizon smart family app watch porn privately ...\n",
            "4     well screwed locked toilet edit lived tell story\n",
            "Name: tweet, dtype: object\n"
          ]
        }
      ],
      "source": [
        "def frequent_words_removal(df):    \n",
        "    df['tweet'] = df['tweet'].apply(lambda x: \" \".join(x for x in x.split() if x not in freq))\n",
        "    print(df['tweet'].head())\n",
        "\n",
        "frequent_words_removal(train)"
      ]
    },
    {
      "cell_type": "markdown",
      "metadata": {
        "id": "m9aDK_Np0aFN"
      },
      "source": [
        "**Rare Words Removal**"
      ]
    },
    {
      "cell_type": "code",
      "source": [
        "n_words_limit = 20000\n",
        "# n_words_limit = 10000"
      ],
      "metadata": {
        "id": "iw80t34OMXZK"
      },
      "execution_count": null,
      "outputs": []
    },
    {
      "cell_type": "code",
      "execution_count": null,
      "metadata": {
        "colab": {
          "base_uri": "https://localhost:8080/"
        },
        "id": "4jWfuAC20ZJJ",
        "outputId": "db753339-d6ec-4daf-f654-0c76daf25b4d"
      },
      "outputs": [
        {
          "output_type": "execute_result",
          "data": {
            "text/plain": [
              "narcanned             1\n",
              "bullcrappery          1\n",
              "laughingeverything    1\n",
              "knowmaybe             1\n",
              "positiviti            1\n",
              "                     ..\n",
              "wss                   1\n",
              "evilafter             1\n",
              "becauseid             1\n",
              "simlike               1\n",
              "pcraigroberts         1\n",
              "Length: 20000, dtype: int64"
            ]
          },
          "metadata": {},
          "execution_count": 201
        }
      ],
      "source": [
        "rare = pd.Series(' '.join(train['tweet']).split()).value_counts()[-n_words_limit:]\n",
        "rare"
      ]
    },
    {
      "cell_type": "code",
      "execution_count": null,
      "metadata": {
        "id": "x-CU_D_l0TAq"
      },
      "outputs": [],
      "source": [
        "rare = list(rare.index)"
      ]
    },
    {
      "cell_type": "code",
      "execution_count": null,
      "metadata": {
        "id": "YvpHLw2935tl",
        "colab": {
          "base_uri": "https://localhost:8080/"
        },
        "outputId": "0d07867b-221f-4b7a-dab9-e84580b26e92"
      },
      "outputs": [
        {
          "output_type": "stream",
          "name": "stdout",
          "text": [
            "0    weird affected compliments coming irl internet...\n",
            "1    finally 2020 almost hear 2020 bad year ever sw...\n",
            "2    everyone wants edgy making self conscious stan...\n",
            "3    verizon smart family app watch porn privately ...\n",
            "4     well screwed locked toilet edit lived tell story\n",
            "Name: tweet, dtype: object\n"
          ]
        }
      ],
      "source": [
        "def rare_words_removal(df):\n",
        "    df['tweet'] = df['tweet'].apply(lambda x: \" \".join(x for x in x.split() if x not in rare))\n",
        "    print(df['tweet'].head())\n",
        "\n",
        "rare_words_removal(train)"
      ]
    },
    {
      "cell_type": "markdown",
      "metadata": {
        "id": "cWf11SII4KBl"
      },
      "source": [
        "**Spelling Correction**"
      ]
    },
    {
      "cell_type": "code",
      "execution_count": null,
      "metadata": {
        "id": "2Gch98w14IEB"
      },
      "outputs": [],
      "source": [
        "# from textblob import TextBlob"
      ]
    },
    {
      "cell_type": "code",
      "execution_count": null,
      "metadata": {
        "id": "IYHRMNbF4MHO"
      },
      "outputs": [],
      "source": [
        "# def spell_correction(df):\n",
        "#     df['tweet'] = df['tweet'].apply(lambda x: str(TextBlob(x).correct()))\n",
        "#     print(df['tweet'].head())"
      ]
    },
    {
      "cell_type": "code",
      "execution_count": null,
      "metadata": {
        "id": "ovPdjhIs4OQ_"
      },
      "outputs": [],
      "source": [
        "# spell_correction(train)"
      ]
    },
    {
      "cell_type": "markdown",
      "metadata": {
        "id": "Vf6Fmg-DM-vf"
      },
      "source": [
        "## Bag of Words"
      ]
    },
    {
      "cell_type": "code",
      "execution_count": null,
      "metadata": {
        "id": "rQPiJDlDNLN0"
      },
      "outputs": [],
      "source": [
        "train_copy = train.copy()"
      ]
    },
    {
      "cell_type": "code",
      "execution_count": null,
      "metadata": {
        "id": "VAPKAJ-XM-Bi"
      },
      "outputs": [],
      "source": [
        "from sklearn.feature_extraction.text import CountVectorizer\n",
        "c_vect = CountVectorizer(max_features=1000, ngram_range=(1,1),analyzer = \"word\")\n",
        "X = c_vect.fit_transform(train_copy['tweet'])"
      ]
    },
    {
      "cell_type": "markdown",
      "metadata": {
        "id": "XCMHJp28AhHz"
      },
      "source": [
        "A peek for our frequency of each term list:"
      ]
    },
    {
      "cell_type": "code",
      "execution_count": null,
      "metadata": {
        "id": "wF0ceram-63M",
        "colab": {
          "base_uri": "https://localhost:8080/"
        },
        "outputId": "99213fe5-ef1f-497a-edfb-162b2ad946e0"
      },
      "outputs": [
        {
          "output_type": "execute_result",
          "data": {
            "text/plain": [
              "[('10', 1647),\n",
              " ('100', 853),\n",
              " ('12', 913),\n",
              " ('13', 769),\n",
              " ('14', 794),\n",
              " ('15', 1184),\n",
              " ('16', 951),\n",
              " ('17', 789),\n",
              " ('18', 1034),\n",
              " ('19', 595),\n",
              " ('20', 1214),\n",
              " ('30', 802),\n",
              " ('able', 3674),\n",
              " ('absolutely', 1162),\n",
              " ('abuse', 1042),\n",
              " ('abused', 598),\n",
              " ('abusive', 831),\n",
              " ('accept', 711),\n",
              " ('account', 1037),\n",
              " ('act', 1172),\n",
              " ('acting', 528),\n",
              " ('actual', 618),\n",
              " ('actually', 4812),\n",
              " ('add', 568),\n",
              " ('advice', 1713),\n",
              " ('afford', 859),\n",
              " ('afraid', 1814),\n",
              " ('age', 1494),\n",
              " ('ago', 4700),\n",
              " ('aint', 1492),\n",
              " ('alcohol', 633),\n",
              " ('alive', 2310),\n",
              " ('allowed', 746),\n",
              " ('almost', 3413),\n",
              " ('alone', 4900),\n",
              " ('along', 875),\n",
              " ('already', 3700),\n",
              " ('also', 7064),\n",
              " ('although', 637),\n",
              " ('always', 9064),\n",
              " ('amazing', 945),\n",
              " ('amount', 888),\n",
              " ('amp', 3250),\n",
              " ('ampx200b', 1575),\n",
              " ('anger', 571),\n",
              " ('angry', 1342),\n",
              " ('annoying', 697),\n",
              " ('another', 4381),\n",
              " ('answer', 1012),\n",
              " ('anxiety', 2874)]"
            ]
          },
          "metadata": {},
          "execution_count": 215
        }
      ],
      "source": [
        "list(zip(c_vect.get_feature_names(), X.sum(0).getA1()))[:50]"
      ]
    },
    {
      "cell_type": "code",
      "execution_count": null,
      "metadata": {
        "id": "wSH_sqfmP_so",
        "colab": {
          "base_uri": "https://localhost:8080/"
        },
        "outputId": "46020b11-fd39-4ffa-f367-237694437629"
      },
      "outputs": [
        {
          "output_type": "execute_result",
          "data": {
            "text/plain": [
              "(99328, 2000)"
            ]
          },
          "metadata": {},
          "execution_count": 216
        }
      ],
      "source": [
        "from sklearn.feature_extraction.text import TfidfVectorizer\n",
        "\n",
        "tfidf = TfidfVectorizer(max_features=2000, analyzer = 'word', ngram_range=(1, 2))\n",
        "\n",
        "features = tfidf.fit_transform(train.tweet).toarray()\n",
        "labels = train.type_id\n",
        "features.shape"
      ]
    },
    {
      "cell_type": "markdown",
      "metadata": {
        "id": "1YMVImYSDMbF"
      },
      "source": [
        "## Modelling"
      ]
    },
    {
      "cell_type": "code",
      "execution_count": null,
      "metadata": {
        "id": "3kJVnlsrHIT0"
      },
      "outputs": [],
      "source": [
        "from sklearn.model_selection import train_test_split\n",
        "from sklearn.feature_extraction.text import CountVectorizer\n",
        "from sklearn.feature_extraction.text import TfidfTransformer\n",
        "\n",
        "X_train, X_test, y_train, y_test = train_test_split(train['tweet'], train['type_id'], random_state = 0)\n",
        "count_vect = CountVectorizer()\n",
        "X_train_counts = count_vect.fit_transform(X_train)\n",
        "tfidf_transformer = TfidfTransformer()\n",
        "X_train_tfidf = tfidf_transformer.fit_transform(X_train_counts)"
      ]
    },
    {
      "cell_type": "code",
      "execution_count": null,
      "metadata": {
        "id": "UQt_5IalEygz"
      },
      "outputs": [],
      "source": [
        "from sklearn.ensemble import RandomForestClassifier\n",
        "from sklearn.svm import LinearSVC\n",
        "from sklearn.naive_bayes import MultinomialNB\n",
        "from sklearn.linear_model import LogisticRegression\n",
        "from sklearn.neural_network import MLPClassifier\n",
        "from sklearn.neighbors import KNeighborsClassifier\n",
        "\n",
        "from sklearn.model_selection import cross_val_score\n",
        "\n",
        "models = [\n",
        "    RandomForestClassifier(n_estimators=200, max_depth=3, random_state=0),\n",
        "    LinearSVC(),\n",
        "    MultinomialNB(),\n",
        "    LogisticRegression(random_state=0),\n",
        "    MLPClassifier(),\n",
        "    KNeighborsClassifier(n_neighbors=4)\n",
        "]\n",
        "CV = 5\n",
        "cv_df = pd.DataFrame(index=range(CV * len(models)))\n",
        "entries = []\n",
        "for model in models:\n",
        "  model_name = model.__class__.__name__\n",
        "  accuracies = cross_val_score(model, features, labels, scoring='accuracy', cv=CV, n_jobs=-1)\n",
        "  for fold_idx, accuracy in enumerate(accuracies):\n",
        "    entries.append((model_name, fold_idx, accuracy))\n",
        "cv_df = pd.DataFrame(entries, columns=['model_name', 'fold_idx', 'accuracy'])"
      ]
    },
    {
      "cell_type": "code",
      "execution_count": null,
      "metadata": {
        "colab": {
          "base_uri": "https://localhost:8080/"
        },
        "outputId": "e44ce151-678f-422d-e502-b7e02001b235",
        "id": "NakLVX_01afS"
      },
      "outputs": [
        {
          "data": {
            "text/html": [
              "\n",
              "  <div id=\"df-b7600081-8127-4f6f-b911-f5e981de40a6\">\n",
              "    <div class=\"colab-df-container\">\n",
              "      <div>\n",
              "<style scoped>\n",
              "    .dataframe tbody tr th:only-of-type {\n",
              "        vertical-align: middle;\n",
              "    }\n",
              "\n",
              "    .dataframe tbody tr th {\n",
              "        vertical-align: top;\n",
              "    }\n",
              "\n",
              "    .dataframe thead th {\n",
              "        text-align: right;\n",
              "    }\n",
              "</style>\n",
              "<table border=\"1\" class=\"dataframe\">\n",
              "  <thead>\n",
              "    <tr style=\"text-align: right;\">\n",
              "      <th></th>\n",
              "      <th>accuracy</th>\n",
              "    </tr>\n",
              "    <tr>\n",
              "      <th>model_name</th>\n",
              "      <th></th>\n",
              "    </tr>\n",
              "  </thead>\n",
              "  <tbody>\n",
              "    <tr>\n",
              "      <th>KNeighborsClassifier</th>\n",
              "      <td>0.429476</td>\n",
              "    </tr>\n",
              "    <tr>\n",
              "      <th>LinearSVC</th>\n",
              "      <td>0.807425</td>\n",
              "    </tr>\n",
              "    <tr>\n",
              "      <th>LogisticRegression</th>\n",
              "      <td>0.810284</td>\n",
              "    </tr>\n",
              "    <tr>\n",
              "      <th>MLPClassifier</th>\n",
              "      <td>0.798666</td>\n",
              "    </tr>\n",
              "    <tr>\n",
              "      <th>MultinomialNB</th>\n",
              "      <td>0.779648</td>\n",
              "    </tr>\n",
              "    <tr>\n",
              "      <th>RandomForestClassifier</th>\n",
              "      <td>0.583229</td>\n",
              "    </tr>\n",
              "  </tbody>\n",
              "</table>\n",
              "</div>\n",
              "      <button class=\"colab-df-convert\" onclick=\"convertToInteractive('df-b7600081-8127-4f6f-b911-f5e981de40a6')\"\n",
              "              title=\"Convert this dataframe to an interactive table.\"\n",
              "              style=\"display:none;\">\n",
              "        \n",
              "  <svg xmlns=\"http://www.w3.org/2000/svg\" height=\"24px\"viewBox=\"0 0 24 24\"\n",
              "       width=\"24px\">\n",
              "    <path d=\"M0 0h24v24H0V0z\" fill=\"none\"/>\n",
              "    <path d=\"M18.56 5.44l.94 2.06.94-2.06 2.06-.94-2.06-.94-.94-2.06-.94 2.06-2.06.94zm-11 1L8.5 8.5l.94-2.06 2.06-.94-2.06-.94L8.5 2.5l-.94 2.06-2.06.94zm10 10l.94 2.06.94-2.06 2.06-.94-2.06-.94-.94-2.06-.94 2.06-2.06.94z\"/><path d=\"M17.41 7.96l-1.37-1.37c-.4-.4-.92-.59-1.43-.59-.52 0-1.04.2-1.43.59L10.3 9.45l-7.72 7.72c-.78.78-.78 2.05 0 2.83L4 21.41c.39.39.9.59 1.41.59.51 0 1.02-.2 1.41-.59l7.78-7.78 2.81-2.81c.8-.78.8-2.07 0-2.86zM5.41 20L4 18.59l7.72-7.72 1.47 1.35L5.41 20z\"/>\n",
              "  </svg>\n",
              "      </button>\n",
              "      \n",
              "  <style>\n",
              "    .colab-df-container {\n",
              "      display:flex;\n",
              "      flex-wrap:wrap;\n",
              "      gap: 12px;\n",
              "    }\n",
              "\n",
              "    .colab-df-convert {\n",
              "      background-color: #E8F0FE;\n",
              "      border: none;\n",
              "      border-radius: 50%;\n",
              "      cursor: pointer;\n",
              "      display: none;\n",
              "      fill: #1967D2;\n",
              "      height: 32px;\n",
              "      padding: 0 0 0 0;\n",
              "      width: 32px;\n",
              "    }\n",
              "\n",
              "    .colab-df-convert:hover {\n",
              "      background-color: #E2EBFA;\n",
              "      box-shadow: 0px 1px 2px rgba(60, 64, 67, 0.3), 0px 1px 3px 1px rgba(60, 64, 67, 0.15);\n",
              "      fill: #174EA6;\n",
              "    }\n",
              "\n",
              "    [theme=dark] .colab-df-convert {\n",
              "      background-color: #3B4455;\n",
              "      fill: #D2E3FC;\n",
              "    }\n",
              "\n",
              "    [theme=dark] .colab-df-convert:hover {\n",
              "      background-color: #434B5C;\n",
              "      box-shadow: 0px 1px 3px 1px rgba(0, 0, 0, 0.15);\n",
              "      filter: drop-shadow(0px 1px 2px rgba(0, 0, 0, 0.3));\n",
              "      fill: #FFFFFF;\n",
              "    }\n",
              "  </style>\n",
              "\n",
              "      <script>\n",
              "        const buttonEl =\n",
              "          document.querySelector('#df-b7600081-8127-4f6f-b911-f5e981de40a6 button.colab-df-convert');\n",
              "        buttonEl.style.display =\n",
              "          google.colab.kernel.accessAllowed ? 'block' : 'none';\n",
              "\n",
              "        async function convertToInteractive(key) {\n",
              "          const element = document.querySelector('#df-b7600081-8127-4f6f-b911-f5e981de40a6');\n",
              "          const dataTable =\n",
              "            await google.colab.kernel.invokeFunction('convertToInteractive',\n",
              "                                                     [key], {});\n",
              "          if (!dataTable) return;\n",
              "\n",
              "          const docLinkHtml = 'Like what you see? Visit the ' +\n",
              "            '<a target=\"_blank\" href=https://colab.research.google.com/notebooks/data_table.ipynb>data table notebook</a>'\n",
              "            + ' to learn more about interactive tables.';\n",
              "          element.innerHTML = '';\n",
              "          dataTable['output_type'] = 'display_data';\n",
              "          await google.colab.output.renderOutput(dataTable, element);\n",
              "          const docLink = document.createElement('div');\n",
              "          docLink.innerHTML = docLinkHtml;\n",
              "          element.appendChild(docLink);\n",
              "        }\n",
              "      </script>\n",
              "    </div>\n",
              "  </div>\n",
              "  "
            ],
            "text/plain": [
              "                        accuracy\n",
              "model_name                      \n",
              "KNeighborsClassifier    0.429476\n",
              "LinearSVC               0.807425\n",
              "LogisticRegression      0.810284\n",
              "MLPClassifier           0.798666\n",
              "MultinomialNB           0.779648\n",
              "RandomForestClassifier  0.583229"
            ]
          },
          "execution_count": 64,
          "metadata": {},
          "output_type": "execute_result"
        }
      ],
      "source": [
        "cv_df.drop(['fold_idx'], axis=1, inplace=True)\n",
        "cv_df.groupby(['model_name']).mean()"
      ]
    },
    {
      "cell_type": "markdown",
      "metadata": {
        "id": "jf3B4YLZX95a"
      },
      "source": [
        "##### **Tuning each model:**"
      ]
    },
    {
      "cell_type": "markdown",
      "metadata": {
        "id": "vuPCquITYGS3"
      },
      "source": [
        "Now we're going to use GridSearchCV in order to find the optimal tuning for each model."
      ]
    },
    {
      "cell_type": "markdown",
      "metadata": {
        "id": "ODych2aAbOYE"
      },
      "source": [
        "But first we'll define a K-Fold number:"
      ]
    },
    {
      "cell_type": "code",
      "execution_count": null,
      "metadata": {
        "id": "yMrqpKv7bS5C"
      },
      "outputs": [],
      "source": [
        "from sklearn.model_selection import StratifiedKFold\n",
        "from sklearn.model_selection import GridSearchCV\n",
        "\n",
        "# Cross validate model with Kfold repeated cross val\n",
        "kfold = StratifiedKFold(n_splits=5)"
      ]
    },
    {
      "cell_type": "code",
      "source": [
        "X_train, X_test, y_train, y_test, indices_train, indices_test = train_test_split(features, labels, train.index,\n",
        "                                                                                 test_size=0.33, random_state=0)"
      ],
      "metadata": {
        "id": "FkU94Z1W2IqQ"
      },
      "execution_count": null,
      "outputs": []
    },
    {
      "cell_type": "markdown",
      "metadata": {
        "id": "nnZIxHZ6YP-F"
      },
      "source": [
        "***RandomForestClassifier***"
      ]
    },
    {
      "cell_type": "code",
      "execution_count": null,
      "metadata": {
        "id": "Q6Vx_pK3clrL"
      },
      "outputs": [],
      "source": [
        "# # RandomForest Classifier tuning\n",
        "\n",
        "# rfC = RandomForestClassifier()\n",
        "# rfc_param_grid = {\n",
        "#     'n_estimators': [100, 150],\n",
        "#     'max_features': ['auto', 'sqrt', 'log2'],\n",
        "#     'max_depth' : [4,5,6],\n",
        "#     'criterion' :['gini', 'entropy']\n",
        "#   }\n",
        "\n",
        "# gsRFC = GridSearchCV(rfC,param_grid = rfc_param_grid, cv=kfold, scoring=\"accuracy\", n_jobs= -1, verbose = 1)\n",
        "\n",
        "# gsRFC.fit(X_train, y_train)\n",
        "\n",
        "# rfc_best = gsRFC.best_estimator_\n",
        "\n",
        "# # Best score\n",
        "# gsRFC.best_score_"
      ]
    },
    {
      "cell_type": "markdown",
      "metadata": {
        "id": "-ym8LDlDYSUT"
      },
      "source": [
        "***LinearSVC***"
      ]
    },
    {
      "cell_type": "code",
      "execution_count": null,
      "metadata": {
        "id": "_MMa0dyhZd90",
        "colab": {
          "base_uri": "https://localhost:8080/"
        },
        "outputId": "fa8aa34c-0b41-4a0d-9825-ffee0edcea9d"
      },
      "outputs": [
        {
          "output_type": "stream",
          "name": "stdout",
          "text": [
            "Fitting 5 folds for each of 12 candidates, totalling 60 fits\n"
          ]
        },
        {
          "output_type": "execute_result",
          "data": {
            "text/plain": [
              "0.8170520459794044"
            ]
          },
          "metadata": {},
          "execution_count": 223
        }
      ],
      "source": [
        "# LinearSV Classifier tuning\n",
        "\n",
        "lsvc = LinearSVC()\n",
        "lsvc_param_grid = {\n",
        "    'C': [0.01, 0.1, 1],\n",
        "    'penalty': ['l1','l2'],\n",
        "    'loss': ['hinge','squared_hinge'],\n",
        "  }\n",
        "\n",
        "gsLSVC = GridSearchCV(lsvc,param_grid = lsvc_param_grid, cv=kfold, scoring=\"accuracy\", n_jobs= -1, verbose = 1)\n",
        "\n",
        "gsLSVC.fit(X_train, y_train)\n",
        "\n",
        "lsvc_best = gsLSVC.best_estimator_\n",
        "\n",
        "# Best score\n",
        "gsLSVC.best_score_"
      ]
    },
    {
      "cell_type": "markdown",
      "metadata": {
        "id": "fixgYiKjYbkZ"
      },
      "source": [
        "***MultinomialNB***"
      ]
    },
    {
      "cell_type": "code",
      "execution_count": null,
      "metadata": {
        "id": "8dYtRM4qeqZi",
        "colab": {
          "base_uri": "https://localhost:8080/"
        },
        "outputId": "4826ab2b-b261-402d-f6ce-63ea0152d28d"
      },
      "outputs": [
        {
          "output_type": "stream",
          "name": "stdout",
          "text": [
            "Fitting 5 folds for each of 5 candidates, totalling 25 fits\n"
          ]
        },
        {
          "output_type": "execute_result",
          "data": {
            "text/plain": [
              "0.7900343886420667"
            ]
          },
          "metadata": {},
          "execution_count": 224
        }
      ],
      "source": [
        "# MultinomialNB tuning\n",
        "\n",
        "nb = MultinomialNB()\n",
        "nb_param_grid = {\n",
        "    'alpha': [0.01, 0.1, 0.5, 1.0, 10.0, ],\n",
        "  }\n",
        "\n",
        "gsNB = GridSearchCV(nb,param_grid = nb_param_grid, cv=kfold, scoring=\"accuracy\", n_jobs= -1, verbose = 1)\n",
        "\n",
        "gsNB.fit(X_train, y_train)\n",
        "\n",
        "nb_best = gsNB.best_estimator_\n",
        "\n",
        "# Best score\n",
        "gsNB.best_score_"
      ]
    },
    {
      "cell_type": "markdown",
      "metadata": {
        "id": "gCoUHFsLYe60"
      },
      "source": [
        "***LogisticRegression***"
      ]
    },
    {
      "cell_type": "code",
      "execution_count": null,
      "metadata": {
        "id": "3l-FTqizf2Y4",
        "colab": {
          "base_uri": "https://localhost:8080/"
        },
        "outputId": "66cf5764-d51f-40eb-ec92-beebf93f55c6"
      },
      "outputs": [
        {
          "output_type": "stream",
          "name": "stdout",
          "text": [
            "Fitting 5 folds for each of 7 candidates, totalling 35 fits\n"
          ]
        },
        {
          "output_type": "execute_result",
          "data": {
            "text/plain": [
              "0.8196215696952723"
            ]
          },
          "metadata": {},
          "execution_count": 225
        }
      ],
      "source": [
        "# LogisticRegression tuning\n",
        "\n",
        "lr = LogisticRegression()\n",
        "lr_param_grid = {\n",
        "    \"C\": np.logspace(-3,3,7),\n",
        "    \"penalty\":[\"l2\"],\n",
        "  }\n",
        "\n",
        "gsLR = GridSearchCV(lr,param_grid = lr_param_grid, cv=kfold, scoring=\"accuracy\", n_jobs= -1, verbose = 1)\n",
        "\n",
        "gsLR.fit(X_train, y_train)\n",
        "\n",
        "lr_best = gsLR.best_estimator_\n",
        "\n",
        "# Best score\n",
        "gsLR.best_score_"
      ]
    },
    {
      "cell_type": "markdown",
      "metadata": {
        "id": "I5tPQGRoZPBm"
      },
      "source": [
        "***MLPClassifier***"
      ]
    },
    {
      "cell_type": "code",
      "execution_count": null,
      "metadata": {
        "id": "6hmBalcxaHko",
        "colab": {
          "base_uri": "https://localhost:8080/"
        },
        "outputId": "b69e3246-e061-452d-f536-9d7e6e5ba9bb"
      },
      "outputs": [
        {
          "output_type": "stream",
          "name": "stdout",
          "text": [
            "Fitting 5 folds for each of 2 candidates, totalling 10 fits\n"
          ]
        },
        {
          "output_type": "execute_result",
          "data": {
            "text/plain": [
              "0.78522597956146"
            ]
          },
          "metadata": {},
          "execution_count": 226
        }
      ],
      "source": [
        "# MLP Classifier tuning\n",
        "\n",
        "MLPC = MLPClassifier()\n",
        "mlp_param_grid = {'hidden_layer_sizes': [(50,50,50),\n",
        "                                         (50,100,50)]}\n",
        "\n",
        "gsMLPC = GridSearchCV(MLPC,param_grid = mlp_param_grid, cv=kfold, scoring=\"accuracy\", n_jobs= -1, verbose = 1)\n",
        "\n",
        "gsMLPC.fit(X_train, y_train)\n",
        "\n",
        "MLP_best = gsMLPC.best_estimator_\n",
        "\n",
        "# Best score\n",
        "gsMLPC.best_score_"
      ]
    },
    {
      "cell_type": "markdown",
      "source": [
        "## Voting Classifier"
      ],
      "metadata": {
        "id": "rigUaMdwN2IT"
      }
    },
    {
      "cell_type": "markdown",
      "source": [
        "**4 Best Models Ensemble**"
      ],
      "metadata": {
        "id": "QXjOPd9qOKzy"
      }
    },
    {
      "cell_type": "code",
      "source": [
        "# # 4-best models\n",
        "# voting_4best = VotingClassifier(estimators=[('mlp', MLP_best), ('lsvc', lsvc_best),\n",
        "#                   ('lr', lr_best), ('nb',nb_best)], voting='soft', n_jobs=-1)\n",
        "\n",
        "# voting_4best = voting_4best.fit(X_train, y_train)\n",
        "\n",
        "# scores = cross_val_score(voting_4best, X_train_tfidf, y_train, cv = kfold,\n",
        "#                        n_jobs = -1, scoring = 'accuracy')\n",
        "\n",
        "# print(round(np.mean(scores)*100, 2))"
      ],
      "metadata": {
        "id": "2O2oAxOEN6s7"
      },
      "execution_count": null,
      "outputs": []
    },
    {
      "cell_type": "markdown",
      "source": [
        "**3 Best Models Ensemble**"
      ],
      "metadata": {
        "id": "0ZXPVOHAOQfB"
      }
    },
    {
      "cell_type": "code",
      "source": [
        "from sklearn.ensemble import VotingClassifier\n",
        "\n",
        "# 3-best models\n",
        "voting_3best = VotingClassifier(estimators=[('nb', nb_best), ('lsvc', lsvc_best),\n",
        "                  ('lr', lr_best)], voting='hard', n_jobs=-1)\n",
        "\n",
        "voting_3best = voting_3best.fit(X_train, y_train)\n",
        "\n",
        "scores = cross_val_score(voting_3best, X_train, y_train, cv = kfold,\n",
        "                       n_jobs = -1, scoring = 'accuracy')\n",
        "\n",
        "print(round(np.mean(scores)*100, 2))"
      ],
      "metadata": {
        "id": "m4scMBe0ORc_",
        "colab": {
          "base_uri": "https://localhost:8080/"
        },
        "outputId": "43733674-fd36-4634-de59-425bd439cc5e"
      },
      "execution_count": null,
      "outputs": [
        {
          "output_type": "stream",
          "name": "stdout",
          "text": [
            "81.9\n"
          ]
        }
      ]
    },
    {
      "cell_type": "markdown",
      "source": [
        "## KPI Performance Analysis"
      ],
      "metadata": {
        "id": "tsp9uDoHPMsz"
      }
    },
    {
      "cell_type": "markdown",
      "source": [
        "We have decided to go with **\"3-best models ensemble\"**."
      ],
      "metadata": {
        "id": "QTt0BiFShrtF"
      }
    },
    {
      "cell_type": "code",
      "source": [
        "# votingC = voting_4best\n",
        "votingC = voting_3best"
      ],
      "metadata": {
        "id": "C2SypaXKhz80"
      },
      "execution_count": null,
      "outputs": []
    },
    {
      "cell_type": "markdown",
      "source": [
        "**Confusion Matrix**"
      ],
      "metadata": {
        "id": "fVpcS4mFPWnS"
      }
    },
    {
      "cell_type": "code",
      "source": [
        "y_pred = votingC.predict(X_test)"
      ],
      "metadata": {
        "id": "oIliHxbKPUth"
      },
      "execution_count": null,
      "outputs": []
    },
    {
      "cell_type": "code",
      "source": [
        "from sklearn.metrics import confusion_matrix\n",
        "\n",
        "cm = confusion_matrix(y_test, y_pred)\n",
        "fig, ax = plt.subplots(figsize=(8,6))\n",
        "\n",
        "sns.heatmap(cm, annot=True, fmt='d', xticklabels=category_id_df['type-name'].values, yticklabels=category_id_df['type-name'].values)\n",
        "\n",
        "plt.ylabel('Actual')\n",
        "plt.xlabel('Predicted')\n",
        "plt.show()"
      ],
      "metadata": {
        "colab": {
          "base_uri": "https://localhost:8080/",
          "height": 388
        },
        "id": "PkfFQSixrUOl",
        "outputId": "db778513-fa0f-4ecb-b5d0-7387912f88ed"
      },
      "execution_count": null,
      "outputs": [
        {
          "output_type": "display_data",
          "data": {
            "text/plain": [
              "<Figure size 576x432 with 2 Axes>"
            ],
            "image/png": "[encoded data removed]"
          },
          "metadata": {
            "needs_background": "light"
          }
        }
      ]
    },
    {
      "cell_type": "markdown",
      "source": [
        "**More basic KPI's:**"
      ],
      "metadata": {
        "id": "ycwBM3ohPY0b"
      }
    },
    {
      "cell_type": "code",
      "source": [
        "from sklearn.metrics import accuracy_score, precision_score, recall_score, f1_score\n",
        "\n",
        "print('Accuracy: {:.5f}'.format(accuracy_score(y_test, y_pred)))\n",
        "print('Precision: {:.5f}'.format(precision_score(y_test, y_pred, average='weighted')))\n",
        "print('Recall: {:.5f}'.format(recall_score(y_test, y_pred, average='weighted')))\n",
        "print('F1-score: {:.5f}'.format(f1_score(y_test, y_pred, average='weighted')))"
      ],
      "metadata": {
        "colab": {
          "base_uri": "https://localhost:8080/"
        },
        "id": "wk-oNA_S3hh6",
        "outputId": "56f05692-dc21-49ba-917a-77218561cfbd"
      },
      "execution_count": null,
      "outputs": [
        {
          "output_type": "stream",
          "name": "stdout",
          "text": [
            "Accuracy: 0.81988\n",
            "Precision: 0.82112\n",
            "Recall: 0.81988\n",
            "F1-score: 0.81965\n"
          ]
        }
      ]
    },
    {
      "cell_type": "code",
      "source": [
        ""
      ],
      "metadata": {
        "id": "qeDadH1M1fKH"
      },
      "execution_count": null,
      "outputs": []
    }
  ],
  "metadata": {
    "colab": {
      "collapsed_sections": [],
      "name": "FP - Tweets Classification.ipynb",
      "provenance": []
    },
    "kernelspec": {
      "display_name": "Python 3",
      "name": "python3"
    },
    "language_info": {
      "name": "python"
    }
  },
  "nbformat": 4,
  "nbformat_minor": 0
}
